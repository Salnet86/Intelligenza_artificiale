{
 "cells": [
  {
   "cell_type": "markdown",
   "id": "d7ed9b4e-e180-4761-8b69-6e6ab17a85a1",
   "metadata": {},
   "source": [
    "<H1 style=\"color:lime;\">TECNICHE DI INTELLIGENZA AI</H1>\n",
    "<P style=\"color:lime;\">CORSO DI INTELLIGENZA RETE NEURALE</P>\n",
    "<P style=\"color:lime;\">SALVATORE BREZZA</P>"
   ]
  },
  {
   "cell_type": "code",
   "execution_count": 15,
   "id": "7670ff58-e4cb-4c7b-b674-19676c58ca67",
   "metadata": {},
   "outputs": [
    {
     "data": {
      "text/plain": [
       "'\\n    LEZIONE DI RETE NEURALE \\n    FAWARD_PROPAGATION , RETRO PROPAGATION , BACKPROPAGATION , SALVATAGGIO PESI E BIAS \\n'"
      ]
     },
     "execution_count": 15,
     "metadata": {},
     "output_type": "execute_result"
    }
   ],
   "source": [
    "'''\n",
    "    LEZIONE DI RETE NEURALE \n",
    "    FAWARD_PROPAGATION , RETRO PROPAGATION , BACKPROPAGATION , SALVATAGGIO PESI E BIAS \n",
    "'''"
   ]
  },
  {
   "cell_type": "code",
   "execution_count": null,
   "id": "1810c755-cc96-4e69-a62e-f426745b6261",
   "metadata": {},
   "outputs": [],
   "source": []
  },
  {
   "cell_type": "code",
   "execution_count": 16,
   "id": "e1371627-5ec2-44c8-9624-b4360051db4e",
   "metadata": {},
   "outputs": [
    {
     "name": "stdout",
     "output_type": "stream",
     "text": [
      "Rete e dati caricati dai dati salvati.\n"
     ]
    },
    {
     "name": "stdin",
     "output_type": "stream",
     "text": [
      "Modalità (train/inferenza):  inferenza\n"
     ]
    },
    {
     "name": "stdout",
     "output_type": "stream",
     "text": [
      "\n",
      "--- Inferenza ---\n",
      "Temp=20°C, Output=96.53\n",
      "Temp=30°C, Output=96.91\n",
      "Temp=50°C, Output=97.56\n",
      "Temp=100°C, Output=98.65\n",
      "Umidita=19%, Output=96.49\n",
      "Umidita=20%, Output=96.53\n",
      "Umidita=40%, Output=97.25\n",
      "Umidita=60%, Output=97.83\n",
      "Temp=20°C, Output=96.58\n",
      "Temp=30°C, Output=96.92\n",
      "Temp=50°C, Output=97.52\n",
      "Temp=100°C, Output=98.56\n",
      "Umidita=19%, Output=96.54\n",
      "Umidita=20%, Output=96.58\n",
      "Umidita=40%, Output=97.24\n",
      "Umidita=60%, Output=97.78\n"
     ]
    }
   ],
   "source": [
    "import random\n",
    "import pickle\n",
    "import os\n",
    "import math\n",
    "import matplotlib.pyplot as plt\n",
    "# =========================\n",
    "# PARAMETRI\n",
    "# =========================\n",
    "rate = 0.7\n",
    "neuroni = 2\n",
    "temperatura = [20, 30, 50, 100]\n",
    "umidita = [19, 20, 40, 60]\n",
    "epoca = 10\n",
    "\n",
    "target_temp = 1\n",
    "target_umidita = 1\n",
    "\n",
    "# Normalizzazione input\n",
    "temperatura_norm = [t / 100 for t in temperatura]\n",
    "umidita_norm = [u / 100 for u in umidita]\n",
    "\n",
    "# Funzioni Sigmoid\n",
    "def sigmoid(x):\n",
    "    return 1 / (1 + math.exp(-x))\n",
    "\n",
    "def sigmoid_deriv(x):\n",
    "    return sigmoid(x) * (1 - sigmoid(x))\n",
    "\n",
    "# =========================\n",
    "# CARICAMENTO RETE E DATI\n",
    "# =========================\n",
    "if os.path.exists(\"rete_salvata.pkl\"):\n",
    "    with open(\"rete_salvata.pkl\", \"rb\") as f:\n",
    "        dati = pickle.load(f)\n",
    "        if 'pesi' in dati and 'bias' in dati:  # Controllo per i pesi e bias\n",
    "            pesi = dati[\"pesi\"]\n",
    "            bias = dati[\"bias\"]\n",
    "        else:\n",
    "            pesi = [random.uniform(0, 0.1) for _ in range(neuroni)]\n",
    "            bias = [random.uniform(0, 0.2) for _ in range(neuroni)]\n",
    "        \n",
    "        # Se i dati di temperatura e umidità sono mancanti, li aggiungiamo\n",
    "        if 'temperatura' not in dati or 'umidita' not in dati:\n",
    "            temperatura_norm = [t / 100 for t in temperatura]\n",
    "            umidita_norm = [u / 100 for u in umidita]\n",
    "        \n",
    "    print(\"Rete e dati caricati dai dati salvati.\")\n",
    "else:\n",
    "    # Se il file non esiste, inizializza tutto\n",
    "    pesi = [random.uniform(0, 0.1) for _ in range(neuroni)]\n",
    "    bias = [random.uniform(0, 0.2) for _ in range(neuroni)]\n",
    "    temperatura_norm = [t / 100 for t in temperatura]\n",
    "    umidita_norm = [u / 100 for u in umidita]\n",
    "    print(\"Nuova rete inizializzata.\")\n",
    "\n",
    "# =========================\n",
    "# ADDDESTRAMENTO\n",
    "# =========================\n",
    "modalita = input(\"Modalità (train/inferenza): \").strip().lower()\n",
    "\n",
    "if modalita == \"train\":\n",
    "    for ep in range(epoca):\n",
    "        print(f\"\\n--- Epoca {ep+1} ---\")\n",
    "        for n in range(neuroni):\n",
    "            # Temperatura\n",
    "            for temp_norm in temperatura_norm:\n",
    "                z1 = pesi[n] * temp_norm + bias[n]\n",
    "                a1 = sigmoid(z1)\n",
    "                errore_temp = target_temp - a1\n",
    "                delta_temp = errore_temp * sigmoid_deriv(z1)\n",
    "                pesi[n] += rate * delta_temp * temp_norm\n",
    "                bias[n] += rate * delta_temp\n",
    "                print(f\"Temp={temp_norm:.2f}, Errore={errore_temp:.3f}\")\n",
    "\n",
    "            # Umidità\n",
    "            for umid_norm in umidita_norm:\n",
    "                z2 = pesi[n] * umid_norm + bias[n]\n",
    "                a2 = sigmoid(z2)\n",
    "                errore_umidita = target_umidita - a2\n",
    "                delta_umidita = errore_umidita * sigmoid_deriv(z2)\n",
    "                pesi[n] += rate * delta_umidita * umid_norm\n",
    "                bias[n] += rate * delta_umidita\n",
    "                print(f\"Umidita={umid_norm:.2f}, Errore={errore_umidita:.3f}\")\n",
    "\n",
    "    # Salvataggio completo (pesi, bias e dati)\n",
    "    with open(\"rete_salvata.pkl\", \"wb\") as f:\n",
    "        pickle.dump({\n",
    "            \"pesi\": pesi,\n",
    "            \"bias\": bias,\n",
    "            \"temperatura\": temperatura_norm,\n",
    "            \"umidita\": umidita_norm\n",
    "        }, f)\n",
    "    print(\"\\nRete e dati salvati su file!\")\n",
    "\n",
    "elif modalita == \"inferenza\":\n",
    "    print(\"\\n--- Inferenza ---\")\n",
    "    for n in range(neuroni):\n",
    "        for i, temp_norm in enumerate(temperatura_norm):\n",
    "            z1 = pesi[n] * temp_norm + bias[n]\n",
    "            a1 = sigmoid(z1)\n",
    "            output_temp = a1 * 100  # scala a °C\n",
    "            print(f\"Temp={temperatura[i]}°C, Output={output_temp:.2f}\")\n",
    "\n",
    "        for i, umid_norm in enumerate(umidita_norm):\n",
    "            z2 = pesi[n] * umid_norm + bias[n]\n",
    "            a2 = sigmoid(z2)\n",
    "            output_umid = a2 * 100  # scala a %\n",
    "            print(f\"Umidita={umidita[i]}%, Output={output_umid:.2f}\")\n",
    "\n",
    "else:\n",
    "    print(\"Modalità non valida! Inserisci 'train' o 'inferenza'.\")\n",
    "\n",
    "\n",
    "\n"
   ]
  },
  {
   "cell_type": "code",
   "execution_count": 14,
   "id": "48a1891d-122e-4a17-890e-09a0b08d1d64",
   "metadata": {},
   "outputs": [
    {
     "data": {
      "image/png": "[encoded data removed]",
      "text/plain": [
       "<Figure size 800x600 with 1 Axes>"
      ]
     },
     "metadata": {},
     "output_type": "display_data"
    }
   ],
   "source": [
    "# =========================\n",
    "# GRAFICO SIGMOIDE + DATI\n",
    "# =========================\n",
    "import numpy as np\n",
    "\n",
    "# Generiamo valori continui per la curva\n",
    "x = np.linspace(-10, 10, 200)\n",
    "y = [sigmoid(val) for val in x]\n",
    "\n",
    "# Output sigmoide dei tuoi dati normalizzati\n",
    "y_temp = [sigmoid(t) for t in temperatura_norm]\n",
    "y_umid = [sigmoid(u) for u in umidita_norm]\n",
    "\n",
    "# Grafico\n",
    "plt.figure(figsize=(8,6))\n",
    "plt.plot(x, y, label=\"Sigmoide\", linewidth=2)\n",
    "plt.scatter(temperatura_norm, y_temp, color=\"red\", label=\"Temperatura normalizzata\")\n",
    "plt.scatter(umidita_norm, y_umid, color=\"blue\", label=\"Umidità normalizzata\")\n",
    "plt.title(\"Funzione Sigmoide con dati normalizzati\")\n",
    "plt.xlabel(\"Input normalizzato\")\n",
    "plt.ylabel(\"Output sigmoide\")\n",
    "plt.grid(True)\n",
    "plt.legend()\n",
    "plt.show()\n"
   ]
  },
  {
   "cell_type": "code",
   "execution_count": null,
   "id": "816c8cbe-79bf-4591-9ac8-bf3006fb8d8a",
   "metadata": {},
   "outputs": [],
   "source": []
  },
  {
   "cell_type": "code",
   "execution_count": null,
   "id": "c006da89-afb6-48a6-ae40-4710303a5b72",
   "metadata": {},
   "outputs": [],
   "source": []
  },
  {
   "cell_type": "code",
   "execution_count": null,
   "id": "b0404887-ea35-4c58-9d18-e2c30a8ca5c5",
   "metadata": {},
   "outputs": [],
   "source": []
  },
  {
   "cell_type": "code",
   "execution_count": null,
   "id": "796abfbd-06e6-4e55-aa11-3231d01fb6a2",
   "metadata": {},
   "outputs": [],
   "source": []
  },
  {
   "cell_type": "code",
   "execution_count": null,
   "id": "3604ace3-2fce-45a3-a6ba-38e0cc704efa",
   "metadata": {},
   "outputs": [],
   "source": []
  },
  {
   "cell_type": "code",
   "execution_count": null,
   "id": "883d186c-0061-403d-8aaa-55b2f82df664",
   "metadata": {},
   "outputs": [],
   "source": []
  },
  {
   "cell_type": "code",
   "execution_count": null,
   "id": "bd53ad97-184a-45e8-813a-ebe72f8c2218",
   "metadata": {},
   "outputs": [],
   "source": []
  },
  {
   "cell_type": "code",
   "execution_count": null,
   "id": "ab8a2a62-48ae-41d3-99f3-1aea2ae2d975",
   "metadata": {},
   "outputs": [],
   "source": []
  },
  {
   "cell_type": "code",
   "execution_count": null,
   "id": "faa72fc3-bec3-45ff-a5b6-268dced7407e",
   "metadata": {},
   "outputs": [],
   "source": []
  },
  {
   "cell_type": "code",
   "execution_count": null,
   "id": "684374d1-a298-4081-8cb9-84520c14cdf0",
   "metadata": {},
   "outputs": [],
   "source": []
  }
 ],
 "metadata": {
  "kernelspec": {
   "display_name": "Python 3 (ipykernel)",
   "language": "python",
   "name": "python3"
  },
  "language_info": {
   "codemirror_mode": {
    "name": "ipython",
    "version": 3
   },
   "file_extension": ".py",
   "mimetype": "text/x-python",
   "name": "python",
   "nbconvert_exporter": "python",
   "pygments_lexer": "ipython3",
   "version": "3.12.3"
  }
 },
 "nbformat": 4,
 "nbformat_minor": 5
}
