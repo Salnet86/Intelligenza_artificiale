{
 "cells": [
  {
   "cell_type": "code",
   "execution_count": 288,
   "id": "12cbd344-6d47-4e0d-8064-01a1de2379db",
   "metadata": {},
   "outputs": [
    {
     "data": {
      "text/plain": [
       "'\\n                    POLITECNICO TORINO  \\n    AUTORE DEL CODICE SALVATORE BERZZA STAGE LOGISTICA AOTOMATICA \\n\\n\\n'"
      ]
     },
     "execution_count": 288,
     "metadata": {},
     "output_type": "execute_result"
    }
   ],
   "source": [
    "'''\n",
    "                    POLITECNICO TORINO  \n",
    "    AUTORE DEL CODICE SALVATORE BERZZA STAGE LOGISTICA AOTOMATICA \n",
    "                   \n",
    "\n",
    "'''"
   ]
  },
  {
   "cell_type": "code",
   "execution_count": 289,
   "id": "3fd16331-5e62-413b-8018-8477402b4a39",
   "metadata": {},
   "outputs": [],
   "source": [
    "import random\n",
    "import math\n",
    "import psutil as ps\n",
    "import pandas as pd\n",
    "import random \n",
    "import matplotlib as plt\n",
    "import matplotlib.pyplot as plt\n",
    "\n",
    "\n",
    "temperatura=ps.sensors_temperatures()\n",
    "# Lista vuota per salvare i dati\n",
    "dati_training = []\n",
    "dato=[]\n",
    "for te , item in temperatura.items():\n",
    "    for dati in item:\n",
    "        dato.append({\n",
    "            \"sensore\": te,\n",
    "            \"etichetta\": dati.label or \"N/A\",\n",
    "            \"corrente (°C)\": dati.current,\n",
    "            \"massima (°C)\": dati.high,\n",
    "            \"critica (°C)\": dati.critical\n",
    "        })\n",
    "pf=pd.DataFrame(dato)\n",
    "#pf.columns\n",
    "temp_corrente = pf['corrente (°C)']\n",
    "temp_massima = pf['massima (°C)']\n",
    "temp_critica = pf['critica (°C)']\n",
    "dati_rete = []\n",
    "\n",
    "for tempC in temp_corrente:\n",
    "    dati_rete.append(tempC)\n",
    "\n",
    "for tempMax in temp_massima:\n",
    "    dati_rete.append(tempMax)\n",
    "\n",
    "for tempCritical in temp_critica:\n",
    "    dati_rete.append(tempCritical)\n",
    "\n",
    "dati_normalizzati = [d / 100 for d in dati_rete]\n",
    "x = dati_normalizzati\n",
    "\n",
    "H1 = []\n",
    "B1 = []\n",
    "\n",
    "#pesi = random.uniform(0, 0.1)\n",
    "#bias = random.uniform(0, 0.1)\n",
    "H1 = [random.uniform(0, 0.1) for _ in range(neuroni)]\n",
    "B1 = [random.uniform(0, 0.2) for _ in range(neuroni)]\n",
    "\n",
    "B_out = 0.2\n",
    "W_out = 0.3\n",
    "target = 1\n",
    "rate = 0.0001\n",
    "\n",
    "def relu(x):\n",
    "    return max(0, x)\n",
    "\n",
    "def relu_derivative(x):\n",
    "    return 1 if x > 0 else 0\n",
    "\n",
    "\n",
    "\n",
    "\n",
    "neuroni = 2\n",
    "epoche = 100\n",
    "\n",
    "for i in range(epoche):\n",
    "    for j in range(neuroni):\n",
    "        pesi = random.uniform(0, 0.1)\n",
    "        bias = random.uniform(0, 0.2)\n",
    "        H1.append(pesi)\n",
    "        B1.append(bias)\n",
    "\n",
    "        for dati in x:\n",
    "            z1 = H1[j] * dati + B1[j]\n",
    "            a1 = relu(z1)\n",
    "            out = W_out * a1 + B_out\n",
    "\n",
    "\n",
    "            \n",
    "            errore = 0.5 * (target - out) ** 2\n",
    "            delta_out = (target - out)\n",
    "\n",
    "          \n",
    "            \n",
    "            delta_h = delta_out * W_out * relu_derivative(z1)\n",
    "            \n",
    "            W_out = W_out - rate * delta_out * a1\n",
    "            H1[j] = H1[j] - rate * delta_h * dati\n",
    "            B1[j] = B1[j] - rate * delta_h\n",
    "            B_out = B_out - rate * delta_out\n",
    "           \n",
    "        \n",
    " # Salvo i valori nel dizionario\n",
    "            dati_training.append({\n",
    "                'Epoca': i + 1,\n",
    "                'Neurone': j + 1,\n",
    "                'Errore': errore,\n",
    "                'Output': out\n",
    "            })\n",
    "\n",
    "# Creo DataFrame pandas\n",
    "df = pd.DataFrame(dati_training)\n",
    "\n",
    "  # Stampo le prime righe per verificare\n",
    "                 \n",
    "           \n",
    "        \n",
    "      \n",
    "        \n",
    "        \n",
    "    \n",
    "        "
   ]
  },
  {
   "cell_type": "code",
   "execution_count": 290,
   "id": "89d87942-a4c9-46c4-b166-63319fe5fcd3",
   "metadata": {},
   "outputs": [
    {
     "name": "stdout",
     "output_type": "stream",
     "text": [
      "Epoca 100, Neurone 2, Errore: 0.435721 , Out:0.06648889804400146\n"
     ]
    }
   ],
   "source": [
    " print(f\"Epoca {i+1}, Neurone {j+1}, Errore: {errore:.6f} , Out:{out}\")\n",
    "      "
   ]
  },
  {
   "cell_type": "code",
   "execution_count": null,
   "id": "4eef8713-8f13-4fd0-811c-04b807c9a087",
   "metadata": {},
   "outputs": [],
   "source": []
  },
  {
   "cell_type": "code",
   "execution_count": 291,
   "id": "982e93b8-5bc9-445f-9955-6d6c1ed55b09",
   "metadata": {},
   "outputs": [],
   "source": [
    "#output_denormalizzati = [val * 100 for val in df['Output']]\n",
    "df['Output_denormalizzati'] = df['Output'] * 100\n",
    "#print(df.head())"
   ]
  },
  {
   "cell_type": "code",
   "execution_count": 292,
   "id": "62f24675-a2cd-4d95-96b4-19d994925cbe",
   "metadata": {},
   "outputs": [
    {
     "data": {
      "text/html": [
       "<div>\n",
       "<style scoped>\n",
       "    .dataframe tbody tr th:only-of-type {\n",
       "        vertical-align: middle;\n",
       "    }\n",
       "\n",
       "    .dataframe tbody tr th {\n",
       "        vertical-align: top;\n",
       "    }\n",
       "\n",
       "    .dataframe thead th {\n",
       "        text-align: right;\n",
       "    }\n",
       "</style>\n",
       "<table border=\"1\" class=\"dataframe\">\n",
       "  <thead>\n",
       "    <tr style=\"text-align: right;\">\n",
       "      <th></th>\n",
       "      <th>Epoca</th>\n",
       "      <th>Neurone</th>\n",
       "      <th>Errore</th>\n",
       "      <th>Output</th>\n",
       "      <th>Output_denormalizzati</th>\n",
       "    </tr>\n",
       "  </thead>\n",
       "  <tbody>\n",
       "    <tr>\n",
       "      <th>0</th>\n",
       "      <td>1</td>\n",
       "      <td>1</td>\n",
       "      <td>0.276528</td>\n",
       "      <td>0.256323</td>\n",
       "      <td>25.632295</td>\n",
       "    </tr>\n",
       "    <tr>\n",
       "      <th>1</th>\n",
       "      <td>1</td>\n",
       "      <td>1</td>\n",
       "      <td>0.276981</td>\n",
       "      <td>0.255714</td>\n",
       "      <td>25.571353</td>\n",
       "    </tr>\n",
       "    <tr>\n",
       "      <th>2</th>\n",
       "      <td>1</td>\n",
       "      <td>1</td>\n",
       "      <td>0.276655</td>\n",
       "      <td>0.256152</td>\n",
       "      <td>25.615154</td>\n",
       "    </tr>\n",
       "    <tr>\n",
       "      <th>3</th>\n",
       "      <td>1</td>\n",
       "      <td>1</td>\n",
       "      <td>0.274854</td>\n",
       "      <td>0.258577</td>\n",
       "      <td>25.857727</td>\n",
       "    </tr>\n",
       "    <tr>\n",
       "      <th>4</th>\n",
       "      <td>1</td>\n",
       "      <td>1</td>\n",
       "      <td>0.274919</td>\n",
       "      <td>0.258489</td>\n",
       "      <td>25.848934</td>\n",
       "    </tr>\n",
       "    <tr>\n",
       "      <th>...</th>\n",
       "      <td>...</td>\n",
       "      <td>...</td>\n",
       "      <td>...</td>\n",
       "      <td>...</td>\n",
       "      <td>...</td>\n",
       "    </tr>\n",
       "    <tr>\n",
       "      <th>1795</th>\n",
       "      <td>100</td>\n",
       "      <td>2</td>\n",
       "      <td>0.435177</td>\n",
       "      <td>0.067072</td>\n",
       "      <td>6.707231</td>\n",
       "    </tr>\n",
       "    <tr>\n",
       "      <th>1796</th>\n",
       "      <td>100</td>\n",
       "      <td>2</td>\n",
       "      <td>0.435276</td>\n",
       "      <td>0.066967</td>\n",
       "      <td>6.696659</td>\n",
       "    </tr>\n",
       "    <tr>\n",
       "      <th>1797</th>\n",
       "      <td>100</td>\n",
       "      <td>2</td>\n",
       "      <td>0.435523</td>\n",
       "      <td>0.066702</td>\n",
       "      <td>6.670162</td>\n",
       "    </tr>\n",
       "    <tr>\n",
       "      <th>1798</th>\n",
       "      <td>100</td>\n",
       "      <td>2</td>\n",
       "      <td>0.435622</td>\n",
       "      <td>0.066595</td>\n",
       "      <td>6.659526</td>\n",
       "    </tr>\n",
       "    <tr>\n",
       "      <th>1799</th>\n",
       "      <td>100</td>\n",
       "      <td>2</td>\n",
       "      <td>0.435721</td>\n",
       "      <td>0.066489</td>\n",
       "      <td>6.648890</td>\n",
       "    </tr>\n",
       "  </tbody>\n",
       "</table>\n",
       "<p>1800 rows × 5 columns</p>\n",
       "</div>"
      ],
      "text/plain": [
       "      Epoca  Neurone    Errore    Output  Output_denormalizzati\n",
       "0         1        1  0.276528  0.256323              25.632295\n",
       "1         1        1  0.276981  0.255714              25.571353\n",
       "2         1        1  0.276655  0.256152              25.615154\n",
       "3         1        1  0.274854  0.258577              25.857727\n",
       "4         1        1  0.274919  0.258489              25.848934\n",
       "...     ...      ...       ...       ...                    ...\n",
       "1795    100        2  0.435177  0.067072               6.707231\n",
       "1796    100        2  0.435276  0.066967               6.696659\n",
       "1797    100        2  0.435523  0.066702               6.670162\n",
       "1798    100        2  0.435622  0.066595               6.659526\n",
       "1799    100        2  0.435721  0.066489               6.648890\n",
       "\n",
       "[1800 rows x 5 columns]"
      ]
     },
     "execution_count": 292,
     "metadata": {},
     "output_type": "execute_result"
    }
   ],
   "source": [
    "df"
   ]
  },
  {
   "cell_type": "code",
   "execution_count": 293,
   "id": "08510b26-b0a5-4ea8-a629-f1d5ec8561eb",
   "metadata": {},
   "outputs": [
    {
     "data": {
      "image/png": "[encoded data removed]",
      "text/plain": [
       "<Figure size 640x480 with 1 Axes>"
      ]
     },
     "metadata": {},
     "output_type": "display_data"
    }
   ],
   "source": [
    "import matplotlib.pyplot as plt\n",
    "\n",
    "output_denorm_medio = df.groupby('Epoca')['Output_denormalizzati'].mean()\n",
    "\n",
    "plt.plot(output_denorm_medio.index, output_denorm_medio.values)\n",
    "plt.xlabel('Epoca')\n",
    "plt.ylabel('Output denormalizzato medio')\n",
    "plt.title('Andamento output denormalizzato medio per epoca')\n",
    "plt.grid(True)\n",
    "plt.show()\n",
    "\n",
    "   "
   ]
  },
  {
   "cell_type": "code",
   "execution_count": null,
   "id": "11e67c08-c68b-484d-abe6-6bac662a01b4",
   "metadata": {},
   "outputs": [],
   "source": []
  },
  {
   "cell_type": "code",
   "execution_count": 294,
   "id": "1560c544-54dd-4b61-bbc7-99816e9bad4d",
   "metadata": {},
   "outputs": [
    {
     "data": {
      "text/plain": [
       "'\\n    Panoramica generale\\n\\nIl codice:\\n\\nLegge le temperature del sistema (CPU, sensori, ecc.) usando psutil\\n\\nPrepara una lista di dati di temperatura normalizzati\\n\\nDefinisce una piccola rete neurale con 2 neuroni (con funzione di attivazione ReLU)\\n\\nAllena la rete per 100 epoche, aggiornando pesi e bias con la discesa del gradiente\\n\\nSalva in un DataFrame pandas i dati di allenamento (errore, output) per ogni epoca e neurone\\n'"
      ]
     },
     "execution_count": 294,
     "metadata": {},
     "output_type": "execute_result"
    }
   ],
   "source": [
    "'''\n",
    "    Panoramica generale\n",
    "\n",
    "Il codice:\n",
    "\n",
    "Legge le temperature del sistema (CPU, sensori, ecc.) usando psutil\n",
    "\n",
    "Prepara una lista di dati di temperatura normalizzati\n",
    "\n",
    "Definisce una piccola rete neurale con 2 neuroni (con funzione di attivazione ReLU)\n",
    "\n",
    "Allena la rete per 100 epoche, aggiornando pesi e bias con la discesa del gradiente\n",
    "\n",
    "Salva in un DataFrame pandas i dati di allenamento (errore, output) per ogni epoca e neurone\n",
    "'''"
   ]
  },
  {
   "cell_type": "code",
   "execution_count": 295,
   "id": "2ca8395c-6442-4bfa-922f-798e2e09dfa2",
   "metadata": {},
   "outputs": [
    {
     "data": {
      "text/plain": [
       "'\\nRiassunto e suggerimenti\\n\\nIl codice è una semplice rete neurale a 1 layer nascosto con 2 neuroni e un neurone di output\\n\\nUsa ReLU come attivazione\\n\\nFa un training supervisionato con target=1, aggiornando i pesi con la discesa del gradiente\\n\\nPrende dati di temperatura dal sistema come input\\n\\nNota importante: nel ciclo stai aggiungendo continuamente nuovi pesi con append, sarebbe meglio inizializzarli una volta e poi aggiornarli, altrimenti la rete si comporta in modo incoerente\\n'"
      ]
     },
     "execution_count": 295,
     "metadata": {},
     "output_type": "execute_result"
    }
   ],
   "source": [
    "'''\n",
    "Riassunto e suggerimenti\n",
    "\n",
    "Il codice è una semplice rete neurale a 1 layer nascosto con 2 neuroni e un neurone di output\n",
    "\n",
    "Usa ReLU come attivazione\n",
    "\n",
    "Fa un training supervisionato con target=1, aggiornando i pesi con la discesa del gradiente\n",
    "\n",
    "Prende dati di temperatura dal sistema come input\n",
    "\n",
    "Nota importante: nel ciclo stai aggiungendo continuamente nuovi pesi con append, sarebbe meglio inizializzarli una volta e poi aggiornarli, altrimenti la rete si comporta in modo incoerente\n",
    "'''"
   ]
  },
  {
   "cell_type": "code",
   "execution_count": null,
   "id": "0d0648cf-980b-4601-9508-5d1b49fa9a58",
   "metadata": {},
   "outputs": [],
   "source": []
  },
  {
   "cell_type": "code",
   "execution_count": 296,
   "id": "3cf7f89c-5618-4e9d-978e-46c68937968c",
   "metadata": {},
   "outputs": [
    {
     "data": {
      "text/plain": [
       "'\\nAutore: Brezza Salvatore\\nRuolo: stagista presso il Politecnico di Torino\\nContesto: Progetto di stage con applicazione pratica sulle temperature del sistema utilizzando una rete neurale scritta interamente a mano, senza l’uso di librerie specifiche per il machine learning.\\n\\nDescrizione\\n\\nIl codice sviluppato ha come obiettivo la raccolta e l’analisi delle temperature di vari sensori hardware del computer tramite la libreria psutil. I dati vengono normalizzati e usati come input per una rete neurale artificiale semplice, implementata da zero, con due neuroni nel layer nascosto e un neurone di output.\\n\\nLa rete neurale utilizza la funzione di attivazione ReLU e viene addestrata con la tecnica di discesa del gradiente per minimizzare l’errore quadratico rispetto a un target prefissato.\\nDurante il processo di addestramento, i pesi e i bias dei neuroni vengono aggiornati manualmente ad ogni iterazione, senza l’ausilio di librerie esterne di machine learning come TensorFlow o PyTorch.\\n\\nCaratteristiche principali\\n\\nRaccolta dati: Utilizzo della libreria psutil per monitorare le temperature correnti, massime e critiche dei sensori hardware.\\n\\nPreprocessing: Normalizzazione dei dati di temperatura per facilitarne l’elaborazione da parte della rete.\\n\\nImplementazione rete neurale:\\n\\n2 neuroni nel layer nascosto, funzione di attivazione ReLU.\\n\\n1 neurone di output con peso e bias propri.\\n\\nFunzione di costo basata sull’errore quadratico medio (MSE).\\n\\nAggiornamento dei pesi e bias tramite backpropagation e discesa del gradiente.\\n\\nAddestramento: 100 epoche, con salvataggio di errore e output per ogni epoca e neurone in un DataFrame Pandas.\\n'"
      ]
     },
     "execution_count": 296,
     "metadata": {},
     "output_type": "execute_result"
    }
   ],
   "source": [
    "'''\n",
    "Autore: Brezza Salvatore\n",
    "Ruolo: stagista presso il Politecnico di Torino\n",
    "Contesto: Progetto di stage con applicazione pratica sulle temperature del sistema utilizzando una rete neurale scritta interamente a mano, senza l’uso di librerie specifiche per il machine learning.\n",
    "\n",
    "Descrizione\n",
    "\n",
    "Il codice sviluppato ha come obiettivo la raccolta e l’analisi delle temperature di vari sensori hardware del computer tramite la libreria psutil. I dati vengono normalizzati e usati come input per una rete neurale artificiale semplice, implementata da zero, con due neuroni nel layer nascosto e un neurone di output.\n",
    "\n",
    "La rete neurale utilizza la funzione di attivazione ReLU e viene addestrata con la tecnica di discesa del gradiente per minimizzare l’errore quadratico rispetto a un target prefissato.\n",
    "Durante il processo di addestramento, i pesi e i bias dei neuroni vengono aggiornati manualmente ad ogni iterazione, senza l’ausilio di librerie esterne di machine learning come TensorFlow o PyTorch.\n",
    "\n",
    "Caratteristiche principali\n",
    "\n",
    "Raccolta dati: Utilizzo della libreria psutil per monitorare le temperature correnti, massime e critiche dei sensori hardware.\n",
    "\n",
    "Preprocessing: Normalizzazione dei dati di temperatura per facilitarne l’elaborazione da parte della rete.\n",
    "\n",
    "Implementazione rete neurale:\n",
    "\n",
    "2 neuroni nel layer nascosto, funzione di attivazione ReLU.\n",
    "\n",
    "1 neurone di output con peso e bias propri.\n",
    "\n",
    "Funzione di costo basata sull’errore quadratico medio (MSE).\n",
    "\n",
    "Aggiornamento dei pesi e bias tramite backpropagation e discesa del gradiente.\n",
    "\n",
    "Addestramento: 100 epoche, con salvataggio di errore e output per ogni epoca e neurone in un DataFrame Pandas.\n",
    "'''"
   ]
  },
  {
   "cell_type": "code",
   "execution_count": null,
   "id": "785252ba-226f-4845-9a41-b99e832c1934",
   "metadata": {},
   "outputs": [],
   "source": []
  },
  {
   "cell_type": "code",
   "execution_count": 297,
   "id": "e543c139-aff0-4402-8f5f-7c6ad5cd3210",
   "metadata": {},
   "outputs": [
    {
     "data": {
      "text/plain": [
       "'\\n Considerazioni\\n\\nIl progetto dimostra la capacità di costruire una rete neurale da zero e di applicarla a dati reali provenienti dal sistema, senza dipendere da librerie preconfezionate.\\nQuesta esperienza pratica consente di comprendere i meccanismi di base delle reti neurali e di avvicinarsi al machine learning in modo concreto.\\n'"
      ]
     },
     "execution_count": 297,
     "metadata": {},
     "output_type": "execute_result"
    }
   ],
   "source": [
    "'''\n",
    " Considerazioni\n",
    "\n",
    "Il progetto dimostra la capacità di costruire una rete neurale da zero e di applicarla a dati reali provenienti dal sistema, senza dipendere da librerie preconfezionate.\n",
    "Questa esperienza pratica consente di comprendere i meccanismi di base delle reti neurali e di avvicinarsi al machine learning in modo concreto.\n",
    "'''"
   ]
  },
  {
   "cell_type": "code",
   "execution_count": 298,
   "id": "aba8b467-5950-470f-9883-8965c41e921d",
   "metadata": {},
   "outputs": [
    {
     "data": {
      "text/plain": [
       "'\\nAutore: Brezza Salvatore\\nRuolo:stagista presso il Politecnico di Torino\\nDocente: Prof. Rizzo\\nContesto: Progetto di stage e didattico con applicazioni pratiche di machine learning su dati hardware, in particolare temperature della CPU, sviluppato con il supporto e la supervisione del docente.\\n\\n'"
      ]
     },
     "execution_count": 298,
     "metadata": {},
     "output_type": "execute_result"
    }
   ],
   "source": [
    "'''\n",
    "Autore: Brezza Salvatore\n",
    "Ruolo:stagista presso il Politecnico di Torino\n",
    "Docente: Prof. Rizzo\n",
    "Contesto: Progetto di stage e didattico con applicazioni pratiche di machine learning su dati hardware, in particolare temperature della CPU, sviluppato con il supporto e la supervisione del docente.\n",
    "\n",
    "'''"
   ]
  },
  {
   "cell_type": "code",
   "execution_count": null,
   "id": "449534a9-83d7-4e65-a6dd-e32097c79fef",
   "metadata": {},
   "outputs": [],
   "source": []
  },
  {
   "cell_type": "code",
   "execution_count": null,
   "id": "963486a6-5c68-4b72-842a-8072bf0939c1",
   "metadata": {},
   "outputs": [],
   "source": []
  },
  {
   "cell_type": "code",
   "execution_count": null,
   "id": "a1aa8d7d-0385-45c4-8cb4-6b383228deba",
   "metadata": {},
   "outputs": [],
   "source": []
  },
  {
   "cell_type": "code",
   "execution_count": null,
   "id": "0a264fd4-7212-4b2a-a655-d7bff0a8e9b5",
   "metadata": {},
   "outputs": [],
   "source": []
  },
  {
   "cell_type": "code",
   "execution_count": null,
   "id": "7d6d1909-003d-4a1b-803c-31bf1f1cfb4d",
   "metadata": {},
   "outputs": [],
   "source": []
  },
  {
   "cell_type": "code",
   "execution_count": null,
   "id": "61dbbc47-45be-45f6-8a0f-ca85000fcd94",
   "metadata": {},
   "outputs": [],
   "source": []
  }
 ],
 "metadata": {
  "kernelspec": {
   "display_name": "Python 3 (ipykernel)",
   "language": "python",
   "name": "python3"
  },
  "language_info": {
   "codemirror_mode": {
    "name": "ipython",
    "version": 3
   },
   "file_extension": ".py",
   "mimetype": "text/x-python",
   "name": "python",
   "nbconvert_exporter": "python",
   "pygments_lexer": "ipython3",
   "version": "3.12.3"
  }
 },
 "nbformat": 4,
 "nbformat_minor": 5
}
