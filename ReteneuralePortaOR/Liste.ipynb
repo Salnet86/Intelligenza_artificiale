{
 "cells": [
  {
   "cell_type": "code",
   "execution_count": 12,
   "id": "20c17f03-d1f9-4ad0-9d4a-2811b753a756",
   "metadata": {},
   "outputs": [
    {
     "data": {
      "text/plain": [
       "'\\n    Liste \\n'"
      ]
     },
     "execution_count": 12,
     "metadata": {},
     "output_type": "execute_result"
    }
   ],
   "source": [
    "'''\n",
    "    Liste \n",
    "'''"
   ]
  },
  {
   "cell_type": "code",
   "execution_count": null,
   "id": "e06801a1-d848-42ec-848d-d62230399337",
   "metadata": {},
   "outputs": [],
   "source": []
  },
  {
   "cell_type": "code",
   "execution_count": 13,
   "id": "2c0eedee-b15b-46e2-8c8c-8d887fded46d",
   "metadata": {},
   "outputs": [],
   "source": [
    "l1=[1,2,3,4,5]\n",
    "l2=[1,2,3,4,5]\n",
    "somma=[a+b for a,b in zip(l1,l2)]"
   ]
  },
  {
   "cell_type": "code",
   "execution_count": 14,
   "id": "24169b63-88c9-46ff-8042-e88de7bc3a49",
   "metadata": {},
   "outputs": [
    {
     "data": {
      "text/plain": [
       "[2, 4, 6, 8, 10]"
      ]
     },
     "execution_count": 14,
     "metadata": {},
     "output_type": "execute_result"
    }
   ],
   "source": [
    "somma"
   ]
  },
  {
   "cell_type": "code",
   "execution_count": 15,
   "id": "e5741223-bc87-47fa-b26b-f9c3761d0a7b",
   "metadata": {},
   "outputs": [],
   "source": [
    "t1=(1,2,3,4)\n",
    "t2=(21,2,3)\n",
    "somma_tupla=[a+b for a,b in zip(t1,t2)]"
   ]
  },
  {
   "cell_type": "code",
   "execution_count": 16,
   "id": "d6e96779-c7ac-48c5-9c87-19cc5a363607",
   "metadata": {},
   "outputs": [
    {
     "data": {
      "text/plain": [
       "[22, 4, 6]"
      ]
     },
     "execution_count": 16,
     "metadata": {},
     "output_type": "execute_result"
    }
   ],
   "source": [
    "somma_tupla"
   ]
  },
  {
   "cell_type": "code",
   "execution_count": null,
   "id": "cfb9fcb8-7fc7-4a40-8ed4-59b822a4ad32",
   "metadata": {},
   "outputs": [],
   "source": []
  },
  {
   "cell_type": "code",
   "execution_count": 17,
   "id": "ebfd2e1f-2546-49ae-b3b0-43ce3fb90f45",
   "metadata": {},
   "outputs": [
    {
     "name": "stdout",
     "output_type": "stream",
     "text": [
      "[5, 7, 9]\n"
     ]
    }
   ],
   "source": [
    "lista1 = [1, 2, 3]\n",
    "lista2 = [4, 5, 6]\n",
    "\n",
    "# Usa map per sommare gli elementi corrispondenti\n",
    "somma = list(map(lambda x, y: x + y, lista1, lista2))\n",
    "\n",
    "print(somma)"
   ]
  },
  {
   "cell_type": "code",
   "execution_count": null,
   "id": "a2c6486d-c851-4db7-a656-748d128366be",
   "metadata": {},
   "outputs": [],
   "source": []
  },
  {
   "cell_type": "code",
   "execution_count": null,
   "id": "ed4d35e8-32da-4e53-a627-9371f4bf3a66",
   "metadata": {},
   "outputs": [],
   "source": []
  },
  {
   "cell_type": "code",
   "execution_count": null,
   "id": "a1111654-13ca-45ca-9f75-a408ae5dc664",
   "metadata": {},
   "outputs": [],
   "source": []
  }
 ],
 "metadata": {
  "kernelspec": {
   "display_name": "Python 3 (ipykernel)",
   "language": "python",
   "name": "python3"
  },
  "language_info": {
   "codemirror_mode": {
    "name": "ipython",
    "version": 3
   },
   "file_extension": ".py",
   "mimetype": "text/x-python",
   "name": "python",
   "nbconvert_exporter": "python",
   "pygments_lexer": "ipython3",
   "version": "3.12.3"
  }
 },
 "nbformat": 4,
 "nbformat_minor": 5
}
