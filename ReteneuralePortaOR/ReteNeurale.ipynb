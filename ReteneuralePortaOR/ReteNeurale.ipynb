{
 "cells": [
  {
   "cell_type": "code",
   "execution_count": 7,
   "id": "a786a3f1-ba84-4586-9102-cf878803a5c9",
   "metadata": {},
   "outputs": [
    {
     "data": {
      "text/plain": [
       "'\\n    Rete Neurale porta logiaca OR \\n'"
      ]
     },
     "execution_count": 7,
     "metadata": {},
     "output_type": "execute_result"
    }
   ],
   "source": [
    "'''\n",
    "    Rete Neurale porta logiaca OR \n",
    "'''"
   ]
  },
  {
   "cell_type": "code",
   "execution_count": 8,
   "id": "6d44ef8f-f8ed-4005-bdec-4863d2fc32ff",
   "metadata": {},
   "outputs": [
    {
     "name": "stdout",
     "output_type": "stream",
     "text": [
      "Input: [0, 0], Somma ponderata: 1.2, Output: 1, Target: 1\n",
      "Input: [0, 1], Somma ponderata: 1.362933016079365, Output: 1, Target: 1\n",
      "Input: [1, 0], Somma ponderata: 1.4948904965302732, Output: 1, Target: 1\n",
      "Input: [1, 1], Somma ponderata: 1.6578235126096381, Output: 1, Target: 1\n"
     ]
    }
   ],
   "source": [
    "import random\n",
    "\n",
    "\n",
    "bias=0.6\n",
    "NumeriReuroni=2\n",
    "\n",
    "\n",
    "x=[[0,0],[0,1],[1,0],[1,1]]\n",
    "\n",
    "out = [0, 1, 1, 1]\n",
    "\n",
    "def funzione_attivazione(somma):\n",
    "    \"\"\"Funzione di attivazione con soglia 1\"\"\"\n",
    "    return 1 if somma >= 1 else 0\n",
    "def ReteNeuralePercetrone(NumeriReuroni):\n",
    "\n",
    "    pesi=[random.uniform(-0.2, 1.0) for _ in range(NumeriReuroni)]\n",
    "\n",
    "    for Trane_X in x:\n",
    "\n",
    "\n",
    "        somma=0\n",
    "\n",
    "        for i in range(NumeriReuroni):\n",
    "\n",
    "            somma+=pesi[i]*Trane_X[i]+bias\n",
    "\n",
    "            output = funzione_attivazione(somma)\n",
    "            # Stampa il risultato per l'input corrente\n",
    "        print(f\"Input: {Trane_X}, Somma ponderata: {somma}, Output: {output}, Target: {out[i]}\")\n",
    "\n",
    "\n",
    "\n",
    "\n",
    "\n",
    "\n",
    "\n",
    "\n",
    "ReteNeuralePercetrone(NumeriReuroni)"
   ]
  },
  {
   "cell_type": "code",
   "execution_count": null,
   "id": "f2777ab6-cc5b-4f43-be17-c66c97b977e8",
   "metadata": {},
   "outputs": [],
   "source": []
  },
  {
   "cell_type": "code",
   "execution_count": null,
   "id": "a94a63aa-a1f5-4371-b22d-63a6206547ab",
   "metadata": {},
   "outputs": [],
   "source": []
  },
  {
   "cell_type": "code",
   "execution_count": null,
   "id": "cba03bd0-aee2-4183-a4d1-32351574b46d",
   "metadata": {},
   "outputs": [],
   "source": []
  },
  {
   "cell_type": "code",
   "execution_count": null,
   "id": "fd389ff2-ad47-4a57-b60d-c3b69837be43",
   "metadata": {},
   "outputs": [],
   "source": []
  },
  {
   "cell_type": "code",
   "execution_count": null,
   "id": "e3238d19-f23a-47ed-a614-334636cf45d1",
   "metadata": {},
   "outputs": [],
   "source": []
  }
 ],
 "metadata": {
  "kernelspec": {
   "display_name": "Python 3 (ipykernel)",
   "language": "python",
   "name": "python3"
  },
  "language_info": {
   "codemirror_mode": {
    "name": "ipython",
    "version": 3
   },
   "file_extension": ".py",
   "mimetype": "text/x-python",
   "name": "python",
   "nbconvert_exporter": "python",
   "pygments_lexer": "ipython3",
   "version": "3.12.3"
  }
 },
 "nbformat": 4,
 "nbformat_minor": 5
}
