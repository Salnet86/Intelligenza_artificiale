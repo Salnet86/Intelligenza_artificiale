{
 "cells": [
  {
   "cell_type": "code",
   "execution_count": 8,
   "id": "4a6a8573-c680-4735-9e97-84dacdd93fbc",
   "metadata": {},
   "outputs": [
    {
     "data": {
      "text/plain": [
       "'\\ncorso di intelligenza artificiale \\n\\n'"
      ]
     },
     "execution_count": 8,
     "metadata": {},
     "output_type": "execute_result"
    }
   ],
   "source": [
    "'''\n",
    "corso di intelligenza artificiale \n",
    "\n",
    "'''"
   ]
  },
  {
   "cell_type": "code",
   "execution_count": null,
   "id": "ef0c1b64-78c7-4a66-93ee-61a2fac30b39",
   "metadata": {},
   "outputs": [],
   "source": []
  },
  {
   "cell_type": "code",
   "execution_count": 4,
   "id": "34af81ed-02eb-4957-aaba-329db2e6e07f",
   "metadata": {},
   "outputs": [
    {
     "name": "stdout",
     "output_type": "stream",
     "text": [
      "   frutta_Arancia  frutta_Banana  frutta_Mela\n",
      "0           False          False         True\n",
      "1           False           True        False\n",
      "2            True          False        False\n",
      "3           False          False         True\n"
     ]
    }
   ],
   "source": [
    "import pandas as pd\n",
    "\n",
    "# Lista di categorie\n",
    "frutta = [\"Mela\", \"Banana\", \"Arancia\", \"Mela\"]\n",
    "\n",
    "# Crea DataFrame\n",
    "df = pd.DataFrame({\"frutta\": frutta})\n",
    "\n",
    "# One-hot encoding\n",
    "df_encoded = pd.get_dummies(df, columns=[\"frutta\"])\n",
    "\n",
    "print(df_encoded)\n"
   ]
  },
  {
   "cell_type": "code",
   "execution_count": null,
   "id": "3d367c33-28f7-4566-8d3c-28f78773756c",
   "metadata": {},
   "outputs": [],
   "source": []
  },
  {
   "cell_type": "code",
   "execution_count": 6,
   "id": "51257f3b-93a2-419e-9113-17a5a663af2f",
   "metadata": {},
   "outputs": [
    {
     "name": "stdout",
     "output_type": "stream",
     "text": [
      "[[0. 0. 1.]\n",
      " [0. 1. 0.]\n",
      " [1. 0. 0.]\n",
      " [0. 0. 1.]]\n",
      "[[0. 0. 1.]\n",
      " [0. 1. 0.]\n",
      " [1. 0. 0.]\n",
      " [0. 0. 1.]]\n"
     ]
    }
   ],
   "source": [
    "from sklearn.preprocessing import OneHotEncoder\n",
    "\n",
    "# Lista di categorie\n",
    "frutta = [[\"Mela\"], [\"Banana\"], [\"Arancia\"], [\"Mela\"]]\n",
    "\n",
    "# Crea encoder (versione aggiornata)\n",
    "encoder = OneHotEncoder(sparse_output=False)\n",
    "\n",
    "# Applica one-hot\n",
    "encoded = encoder.fit_transform(frutta)\n",
    "\n",
    "print(encoded)\n",
    "print(encoded)\n"
   ]
  },
  {
   "cell_type": "code",
   "execution_count": null,
   "id": "fa11cf39-a307-411a-b8e2-0b0537c2f16f",
   "metadata": {},
   "outputs": [],
   "source": []
  },
  {
   "cell_type": "code",
   "execution_count": null,
   "id": "56c86aa9-623e-4476-a541-dc730e79c451",
   "metadata": {},
   "outputs": [],
   "source": []
  },
  {
   "cell_type": "code",
   "execution_count": 7,
   "id": "3d2fcba4-23bd-4866-aa43-0d9102b91082",
   "metadata": {},
   "outputs": [
    {
     "name": "stdout",
     "output_type": "stream",
     "text": [
      "Input one-hot:\n",
      " [[0. 0. 1.]\n",
      " [0. 1. 0.]\n",
      " [1. 0. 0.]\n",
      " [0. 0. 1.]\n",
      " [0. 1. 0.]\n",
      " [1. 0. 0.]]\n",
      "Output one-hot:\n",
      " [[0. 0. 1.]\n",
      " [0. 1. 0.]\n",
      " [1. 0. 0.]\n",
      " [0. 0. 1.]\n",
      " [0. 1. 0.]\n",
      " [1. 0. 0.]]\n"
     ]
    },
    {
     "data": {
      "image/png": "[encoded data removed]",
      "text/plain": [
       "<Figure size 640x480 with 1 Axes>"
      ]
     },
     "metadata": {},
     "output_type": "display_data"
    },
    {
     "name": "stdout",
     "output_type": "stream",
     "text": [
      "Predizione per 'Mela': Mela\n",
      "Predizione per 'Banana': Banana\n",
      "Predizione per 'Arancia': Arancia\n"
     ]
    }
   ],
   "source": [
    "import numpy as np\n",
    "import matplotlib.pyplot as plt\n",
    "from sklearn.preprocessing import OneHotEncoder\n",
    "\n",
    "# ======== 1. Dataset =========\n",
    "frutta = [[\"Mela\"], [\"Banana\"], [\"Arancia\"], [\"Mela\"], [\"Banana\"], [\"Arancia\"]]\n",
    "target = [[\"Mela\"], [\"Banana\"], [\"Arancia\"], [\"Mela\"], [\"Banana\"], [\"Arancia\"]]\n",
    "\n",
    "# One-hot encoding input e output\n",
    "encoder_input = OneHotEncoder(sparse_output=False)\n",
    "X = encoder_input.fit_transform(frutta)\n",
    "\n",
    "encoder_output = OneHotEncoder(sparse_output=False)\n",
    "Y = encoder_output.fit_transform(target)\n",
    "\n",
    "print(\"Input one-hot:\\n\", X)\n",
    "print(\"Output one-hot:\\n\", Y)\n",
    "\n",
    "# ======== 2. Rete neurale semplice =========\n",
    "np.random.seed(0)\n",
    "\n",
    "input_size = X.shape[1]   # 3\n",
    "output_size = Y.shape[1]  # 3\n",
    "lr = 0.1                  # learning rate\n",
    "\n",
    "# Pesi iniziali casuali\n",
    "W = np.random.randn(input_size, output_size)\n",
    "b = np.zeros((1, output_size))\n",
    "\n",
    "# Funzione softmax\n",
    "def softmax(z):\n",
    "    exp_z = np.exp(z - np.max(z, axis=1, keepdims=True))\n",
    "    return exp_z / np.sum(exp_z, axis=1, keepdims=True)\n",
    "\n",
    "# Funzione loss (cross-entropy)\n",
    "def cross_entropy(y_true, y_pred):\n",
    "    return -np.mean(np.sum(y_true * np.log(y_pred + 1e-9), axis=1))\n",
    "\n",
    "# ======== 3. Training =========\n",
    "losses = []\n",
    "\n",
    "for epoch in range(1000):\n",
    "    # Forward pass\n",
    "    Z = np.dot(X, W) + b\n",
    "    Y_pred = softmax(Z)\n",
    "    \n",
    "    # Loss\n",
    "    loss = cross_entropy(Y, Y_pred)\n",
    "    losses.append(loss)\n",
    "    \n",
    "    # Backprop (gradiente semplice)\n",
    "    dZ = Y_pred - Y\n",
    "    dW = np.dot(X.T, dZ) / X.shape[0]\n",
    "    db = np.sum(dZ, axis=0, keepdims=True) / X.shape[0]\n",
    "    \n",
    "    # Aggiorna pesi\n",
    "    W -= lr * dW\n",
    "    b -= lr * db\n",
    "\n",
    "# ======== 4. Visualizza curva dell'errore =========\n",
    "plt.plot(losses)\n",
    "plt.xlabel(\"Epoch\")\n",
    "plt.ylabel(\"Cross-Entropy Loss\")\n",
    "plt.title(\"Training rete neurale - One-hot encoding\")\n",
    "plt.show()\n",
    "\n",
    "# ======== 5. Test =========\n",
    "def predict(fruit_name):\n",
    "    x = encoder_input.transform([[fruit_name]])\n",
    "    y_pred = softmax(np.dot(x, W) + b)\n",
    "    pred_label = encoder_output.inverse_transform(y_pred)\n",
    "    return pred_label[0][0]\n",
    "\n",
    "print(\"Predizione per 'Mela':\", predict(\"Mela\"))\n",
    "print(\"Predizione per 'Banana':\", predict(\"Banana\"))\n",
    "print(\"Predizione per 'Arancia':\", predict(\"Arancia\"))\n"
   ]
  },
  {
   "cell_type": "code",
   "execution_count": null,
   "id": "f707dc9e-bc94-47ab-b48a-9c8361955000",
   "metadata": {},
   "outputs": [],
   "source": []
  },
  {
   "cell_type": "code",
   "execution_count": null,
   "id": "e424079c-31f1-4b7f-994c-9b860936853e",
   "metadata": {},
   "outputs": [],
   "source": []
  }
 ],
 "metadata": {
  "kernelspec": {
   "display_name": "Python 3 (ipykernel)",
   "language": "python",
   "name": "python3"
  },
  "language_info": {
   "codemirror_mode": {
    "name": "ipython",
    "version": 3
   },
   "file_extension": ".py",
   "mimetype": "text/x-python",
   "name": "python",
   "nbconvert_exporter": "python",
   "pygments_lexer": "ipython3",
   "version": "3.12.3"
  }
 },
 "nbformat": 4,
 "nbformat_minor": 5
}
